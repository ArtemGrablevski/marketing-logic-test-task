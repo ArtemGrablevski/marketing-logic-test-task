{
 "cells": [
  {
   "cell_type": "code",
   "execution_count": 1,
   "id": "initial_id",
   "metadata": {
    "ExecuteTime": {
     "end_time": "2024-07-30T19:01:49.921646Z",
     "start_time": "2024-07-30T19:01:48.821475Z"
    },
    "collapsed": true
   },
   "outputs": [],
   "source": [
    "import pandas as pd\n",
    "\n",
    "from sklearn.feature_extraction.text import TfidfVectorizer\n",
    "from sklearn.model_selection import train_test_split\n",
    "from sklearn.preprocessing import MinMaxScaler\n",
    "from sklearn.linear_model import LogisticRegression\n",
    "from sklearn.metrics import accuracy_score\n",
    "\n",
    "from scipy.sparse import hstack"
   ]
  },
  {
   "cell_type": "code",
   "execution_count": 2,
   "id": "873c0cd817bcd540",
   "metadata": {
    "ExecuteTime": {
     "end_time": "2024-07-30T19:01:50.292696Z",
     "start_time": "2024-07-30T19:01:49.927013Z"
    }
   },
   "outputs": [],
   "source": [
    "train_df = pd.read_csv(\"train_data.csv\", index_col=\"Id_Записи\", sep=\";\")"
   ]
  },
  {
   "cell_type": "code",
   "execution_count": 3,
   "id": "32c5852bf0f24bcd",
   "metadata": {
    "ExecuteTime": {
     "end_time": "2024-07-30T19:01:50.326451Z",
     "start_time": "2024-07-30T19:01:50.295910Z"
    }
   },
   "outputs": [
    {
     "name": "stdout",
     "output_type": "stream",
     "text": [
      "<class 'pandas.core.frame.DataFrame'>\n",
      "Index: 61976 entries, 0 to 61975\n",
      "Data columns (total 9 columns):\n",
      " #   Column            Non-Null Count  Dtype \n",
      "---  ------            --------------  ----- \n",
      " 0   Id_Пациента       61976 non-null  int64 \n",
      " 1   Возраст           61976 non-null  int64 \n",
      " 2   Диагноз           61976 non-null  object\n",
      " 3   Жалобы            61976 non-null  object\n",
      " 4   Источник_рекламы  61976 non-null  object\n",
      " 5   Клиника           61976 non-null  int64 \n",
      " 6   Код_диагноза      61976 non-null  object\n",
      " 7   Пол               61976 non-null  int64 \n",
      " 8   Услуга            61976 non-null  object\n",
      "dtypes: int64(4), object(5)\n",
      "memory usage: 4.7+ MB\n"
     ]
    }
   ],
   "source": [
    "train_df.info()"
   ]
  },
  {
   "cell_type": "markdown",
   "id": "971632a3a5436a8a",
   "metadata": {},
   "source": [
    "Nan значений нет, можно сразу приступать к анализу данных и построению модели."
   ]
  },
  {
   "cell_type": "code",
   "execution_count": 4,
   "id": "3a8bb5f8a88e8102",
   "metadata": {
    "ExecuteTime": {
     "end_time": "2024-07-30T19:01:50.346749Z",
     "start_time": "2024-07-30T19:01:50.328113Z"
    }
   },
   "outputs": [
    {
     "data": {
      "text/html": [
       "<div>\n",
       "<style scoped>\n",
       "    .dataframe tbody tr th:only-of-type {\n",
       "        vertical-align: middle;\n",
       "    }\n",
       "\n",
       "    .dataframe tbody tr th {\n",
       "        vertical-align: top;\n",
       "    }\n",
       "\n",
       "    .dataframe thead th {\n",
       "        text-align: right;\n",
       "    }\n",
       "</style>\n",
       "<table border=\"1\" class=\"dataframe\">\n",
       "  <thead>\n",
       "    <tr style=\"text-align: right;\">\n",
       "      <th></th>\n",
       "      <th>Id_Пациента</th>\n",
       "      <th>Возраст</th>\n",
       "      <th>Диагноз</th>\n",
       "      <th>Жалобы</th>\n",
       "      <th>Источник_рекламы</th>\n",
       "      <th>Клиника</th>\n",
       "      <th>Код_диагноза</th>\n",
       "      <th>Пол</th>\n",
       "      <th>Услуга</th>\n",
       "    </tr>\n",
       "    <tr>\n",
       "      <th>Id_Записи</th>\n",
       "      <th></th>\n",
       "      <th></th>\n",
       "      <th></th>\n",
       "      <th></th>\n",
       "      <th></th>\n",
       "      <th></th>\n",
       "      <th></th>\n",
       "      <th></th>\n",
       "      <th></th>\n",
       "    </tr>\n",
       "  </thead>\n",
       "  <tbody>\n",
       "    <tr>\n",
       "      <th>0</th>\n",
       "      <td>115819</td>\n",
       "      <td>54</td>\n",
       "      <td>Гипертензивная болезнь сердца [гипертоническая...</td>\n",
       "      <td>на повышение ад утром до 140/90 мм.рт.ст., пер...</td>\n",
       "      <td>Другое</td>\n",
       "      <td>5</td>\n",
       "      <td>I11</td>\n",
       "      <td>2</td>\n",
       "      <td>Прием врача-кардиолога  повторный, амбулаторный</td>\n",
       "    </tr>\n",
       "    <tr>\n",
       "      <th>1</th>\n",
       "      <td>399973</td>\n",
       "      <td>32</td>\n",
       "      <td>Доброкачественное новообразование молочной железы</td>\n",
       "      <td>На наличие опухоли в левой молочной железе</td>\n",
       "      <td>Другое</td>\n",
       "      <td>3</td>\n",
       "      <td>D24</td>\n",
       "      <td>2</td>\n",
       "      <td>Прием врача-онколога (маммолога), повторный, а...</td>\n",
       "    </tr>\n",
       "    <tr>\n",
       "      <th>2</th>\n",
       "      <td>427563</td>\n",
       "      <td>72</td>\n",
       "      <td>Простой хронический бронхит</td>\n",
       "      <td>Активных жалоб нет.</td>\n",
       "      <td>Интернет</td>\n",
       "      <td>6</td>\n",
       "      <td>J41.0</td>\n",
       "      <td>2</td>\n",
       "      <td>Прием первичный врача-пульмонолога</td>\n",
       "    </tr>\n",
       "    <tr>\n",
       "      <th>3</th>\n",
       "      <td>257197</td>\n",
       "      <td>55</td>\n",
       "      <td>Другая дорсалгия</td>\n",
       "      <td>на сохраняющиеся боли в спине и пояснице, сков...</td>\n",
       "      <td>Другое</td>\n",
       "      <td>3</td>\n",
       "      <td>M54.8</td>\n",
       "      <td>1</td>\n",
       "      <td>Прием врача-невролога  повторный, амбулаторный</td>\n",
       "    </tr>\n",
       "    <tr>\n",
       "      <th>4</th>\n",
       "      <td>281066</td>\n",
       "      <td>28</td>\n",
       "      <td>Острый фарингит</td>\n",
       "      <td>на дискомфорт в горле, слабое першение, слабость</td>\n",
       "      <td>Другое</td>\n",
       "      <td>3</td>\n",
       "      <td>J02</td>\n",
       "      <td>2</td>\n",
       "      <td>Прием врача-оториноларинголога повторный, амбу...</td>\n",
       "    </tr>\n",
       "    <tr>\n",
       "      <th>5</th>\n",
       "      <td>341445</td>\n",
       "      <td>46</td>\n",
       "      <td>Ушиб пальца(ев) кисти с повреждением ногтевой ...</td>\n",
       "      <td>на  боли в 3 пальце правой кисти</td>\n",
       "      <td>Другое</td>\n",
       "      <td>3</td>\n",
       "      <td>S60.1</td>\n",
       "      <td>2</td>\n",
       "      <td>Прием врача-хирурга  первичный, амбулаторный</td>\n",
       "    </tr>\n",
       "    <tr>\n",
       "      <th>6</th>\n",
       "      <td>416352</td>\n",
       "      <td>29</td>\n",
       "      <td>Поражение межпозвоночных дисков других отделов</td>\n",
       "      <td>Не изменились с момента первого приема</td>\n",
       "      <td>Интернет</td>\n",
       "      <td>2</td>\n",
       "      <td>M51</td>\n",
       "      <td>2</td>\n",
       "      <td>Прием врача-невролога  повторный, амбулаторный</td>\n",
       "    </tr>\n",
       "    <tr>\n",
       "      <th>7</th>\n",
       "      <td>251280</td>\n",
       "      <td>38</td>\n",
       "      <td>Диффузная кистозная мастопатия</td>\n",
       "      <td>На боли в молочных железах по циклу</td>\n",
       "      <td>Другое</td>\n",
       "      <td>3</td>\n",
       "      <td>N60.1</td>\n",
       "      <td>2</td>\n",
       "      <td>Прием врача-онколога (маммолога), повторный, а...</td>\n",
       "    </tr>\n",
       "    <tr>\n",
       "      <th>8</th>\n",
       "      <td>208376</td>\n",
       "      <td>32</td>\n",
       "      <td>Другой хронический цистит</td>\n",
       "      <td>на боли в правой пахово-подвздошной области.</td>\n",
       "      <td>Интернет</td>\n",
       "      <td>5</td>\n",
       "      <td>N30.2</td>\n",
       "      <td>2</td>\n",
       "      <td>Прием врача-уролога повторный, амбулаторный</td>\n",
       "    </tr>\n",
       "    <tr>\n",
       "      <th>9</th>\n",
       "      <td>598841</td>\n",
       "      <td>43</td>\n",
       "      <td>Лейомиома матки</td>\n",
       "      <td>на момент осмотра не предъявляет</td>\n",
       "      <td>Рекомендации знакомых</td>\n",
       "      <td>5</td>\n",
       "      <td>D25</td>\n",
       "      <td>2</td>\n",
       "      <td>Прием врача-акушера-гинеколога повторный, амбу...</td>\n",
       "    </tr>\n",
       "  </tbody>\n",
       "</table>\n",
       "</div>"
      ],
      "text/plain": [
       "           Id_Пациента  Возраст  \\\n",
       "Id_Записи                         \n",
       "0               115819       54   \n",
       "1               399973       32   \n",
       "2               427563       72   \n",
       "3               257197       55   \n",
       "4               281066       28   \n",
       "5               341445       46   \n",
       "6               416352       29   \n",
       "7               251280       38   \n",
       "8               208376       32   \n",
       "9               598841       43   \n",
       "\n",
       "                                                     Диагноз  \\\n",
       "Id_Записи                                                      \n",
       "0          Гипертензивная болезнь сердца [гипертоническая...   \n",
       "1          Доброкачественное новообразование молочной железы   \n",
       "2                                Простой хронический бронхит   \n",
       "3                                           Другая дорсалгия   \n",
       "4                                            Острый фарингит   \n",
       "5          Ушиб пальца(ев) кисти с повреждением ногтевой ...   \n",
       "6             Поражение межпозвоночных дисков других отделов   \n",
       "7                             Диффузная кистозная мастопатия   \n",
       "8                                  Другой хронический цистит   \n",
       "9                                            Лейомиома матки   \n",
       "\n",
       "                                                      Жалобы  \\\n",
       "Id_Записи                                                      \n",
       "0          на повышение ад утром до 140/90 мм.рт.ст., пер...   \n",
       "1                 На наличие опухоли в левой молочной железе   \n",
       "2                                        Активных жалоб нет.   \n",
       "3          на сохраняющиеся боли в спине и пояснице, сков...   \n",
       "4           на дискомфорт в горле, слабое першение, слабость   \n",
       "5                           на  боли в 3 пальце правой кисти   \n",
       "6                     Не изменились с момента первого приема   \n",
       "7                        На боли в молочных железах по циклу   \n",
       "8               на боли в правой пахово-подвздошной области.   \n",
       "9                           на момент осмотра не предъявляет   \n",
       "\n",
       "                Источник_рекламы  Клиника Код_диагноза  Пол  \\\n",
       "Id_Записи                                                     \n",
       "0                         Другое        5          I11    2   \n",
       "1                         Другое        3          D24    2   \n",
       "2                       Интернет        6        J41.0    2   \n",
       "3                         Другое        3        M54.8    1   \n",
       "4                         Другое        3          J02    2   \n",
       "5                         Другое        3        S60.1    2   \n",
       "6                       Интернет        2          M51    2   \n",
       "7                         Другое        3        N60.1    2   \n",
       "8                       Интернет        5        N30.2    2   \n",
       "9          Рекомендации знакомых        5          D25    2   \n",
       "\n",
       "                                                      Услуга  \n",
       "Id_Записи                                                     \n",
       "0            Прием врача-кардиолога  повторный, амбулаторный  \n",
       "1          Прием врача-онколога (маммолога), повторный, а...  \n",
       "2                         Прием первичный врача-пульмонолога  \n",
       "3             Прием врача-невролога  повторный, амбулаторный  \n",
       "4          Прием врача-оториноларинголога повторный, амбу...  \n",
       "5               Прием врача-хирурга  первичный, амбулаторный  \n",
       "6             Прием врача-невролога  повторный, амбулаторный  \n",
       "7          Прием врача-онколога (маммолога), повторный, а...  \n",
       "8                Прием врача-уролога повторный, амбулаторный  \n",
       "9          Прием врача-акушера-гинеколога повторный, амбу...  "
      ]
     },
     "execution_count": 4,
     "metadata": {},
     "output_type": "execute_result"
    }
   ],
   "source": [
    "train_df.head(10)"
   ]
  },
  {
   "cell_type": "markdown",
   "id": "8845c590b8cd379f",
   "metadata": {},
   "source": [
    "Отдельно посмотрим на диагнозы, которые нужно предсказать:"
   ]
  },
  {
   "cell_type": "code",
   "execution_count": 5,
   "id": "2a69029128e39b13",
   "metadata": {
    "ExecuteTime": {
     "end_time": "2024-07-30T19:01:50.360194Z",
     "start_time": "2024-07-30T19:01:50.348298Z"
    }
   },
   "outputs": [
    {
     "data": {
      "text/plain": [
       "Диагноз\n",
       "Острая инфекция верхних дыхательных путей неуточненная                                                             2147\n",
       "Остеохондроз позвоночника у взрослых                                                                               1949\n",
       "Острый вагинит                                                                                                     1942\n",
       "Острый назофарингит (насморк)                                                                                      1379\n",
       "Беременность подтвержденная                                                                                        1358\n",
       "Хронический простатит                                                                                              1111\n",
       "Общий медицинский осмотр                                                                                           1048\n",
       "Вагинит, вульвит и вульвовагинит при инфекционных и паразитарных болезнях, классифицированных в других рубриках     956\n",
       "Гипертензивная болезнь сердца [гипертоническая болезнь сердца с преимущественным поражением сердца]                 956\n",
       "Диспепсия                                                                                                           779\n",
       "Хронический тонзиллит                                                                                               776\n",
       "Цервикалгия                                                                                                         713\n",
       "Диффузная кистозная мастопатия                                                                                      657\n",
       "Подострый и хронический вагинит                                                                                     617\n",
       "Другая дорсалгия                                                                                                    605\n",
       "Name: count, dtype: int64"
      ]
     },
     "execution_count": 5,
     "metadata": {},
     "output_type": "execute_result"
    }
   ],
   "source": [
    "train_df[\"Диагноз\"].value_counts().head(15)"
   ]
  },
  {
   "cell_type": "markdown",
   "id": "8f973057b3a89348",
   "metadata": {},
   "source": [
    "Всего уникальных диагнозов 2286. Самый популярный диагноз встречается 2147 раз. А самый редкий - всего 1 раз.\n",
    "\n",
    "Имеет смысл рассматривать точность предсказания не только для всех диагнозов, но и для 10 самых популярных диагнозов.\n"
   ]
  },
  {
   "cell_type": "code",
   "execution_count": 6,
   "id": "8abd0ae8f536a4fb",
   "metadata": {
    "ExecuteTime": {
     "end_time": "2024-07-30T19:01:50.379703Z",
     "start_time": "2024-07-30T19:01:50.362359Z"
    }
   },
   "outputs": [
    {
     "data": {
      "text/plain": [
       "Index(['J06.9', 'M42.1', 'N76.0', 'J00', 'Z32.1', 'N41.1', 'Z00.0', 'I11',\n",
       "       'N77.1*', 'K30'],\n",
       "      dtype='object', name='Код_диагноза')"
      ]
     },
     "execution_count": 6,
     "metadata": {},
     "output_type": "execute_result"
    }
   ],
   "source": [
    "n_top = 10\n",
    "\n",
    "top_diagnoses = train_df[\"Код_диагноза\"].value_counts().nlargest(n_top).index\n",
    "top_diagnoses"
   ]
  },
  {
   "cell_type": "markdown",
   "id": "50054e55a63986d4",
   "metadata": {},
   "source": [
    "## Подготовка данных\n",
    "Рассмотрим, на мой взляд, наиболее важные признаки для предсказания диагноза: \"Жалобы\", \"Услуга\" и \"Возраст\""
   ]
  },
  {
   "cell_type": "code",
   "execution_count": 7,
   "id": "70e98d12bc8749a9",
   "metadata": {
    "ExecuteTime": {
     "end_time": "2024-07-30T19:01:50.384606Z",
     "start_time": "2024-07-30T19:01:50.381333Z"
    }
   },
   "outputs": [],
   "source": [
    "valid_size = 0.2\n",
    "random_state = 42 # Для воспроизводимости результатов"
   ]
  },
  {
   "cell_type": "markdown",
   "id": "ec8ede49fd6cfb81",
   "metadata": {},
   "source": [
    "Разобьем данные на обучающую и валидационную выборки. Проведем векторизацию текстовых признаков и нормализацию числовых:"
   ]
  },
  {
   "cell_type": "code",
   "execution_count": 8,
   "id": "6dac98422a1fa5d",
   "metadata": {
    "ExecuteTime": {
     "end_time": "2024-07-30T19:01:50.402435Z",
     "start_time": "2024-07-30T19:01:50.386385Z"
    }
   },
   "outputs": [],
   "source": [
    "X_train, X_valid, y_train, y_valid = train_test_split(\n",
    "    train_df[[\"Жалобы\", \"Услуга\", \"Возраст\"]], \n",
    "    train_df[\"Код_диагноза\"],\n",
    "    test_size=valid_size,\n",
    "    random_state=random_state\n",
    ")"
   ]
  },
  {
   "cell_type": "code",
   "execution_count": 9,
   "id": "2b073ed826bd5778",
   "metadata": {
    "ExecuteTime": {
     "end_time": "2024-07-30T19:01:51.323585Z",
     "start_time": "2024-07-30T19:01:50.405730Z"
    }
   },
   "outputs": [],
   "source": [
    "complaint_vectorizer = TfidfVectorizer()\n",
    "X_train_complaints = complaint_vectorizer.fit_transform(X_train[\"Жалобы\"])\n",
    "X_valid_complaints = complaint_vectorizer.transform(X_valid[\"Жалобы\"])\n",
    "\n",
    "service_vectorizer = TfidfVectorizer()\n",
    "X_train_service = service_vectorizer.fit_transform(X_train[\"Услуга\"])\n",
    "X_valid_service = service_vectorizer.transform(X_valid[\"Услуга\"])\n",
    "\n",
    "scaler = MinMaxScaler()\n",
    "X_train_age = scaler.fit_transform(X_train[[\"Возраст\"]])\n",
    "X_valid_age = scaler.transform(X_valid[[\"Возраст\"]])"
   ]
  },
  {
   "cell_type": "code",
   "execution_count": 10,
   "id": "e075ca9fb852695d",
   "metadata": {
    "ExecuteTime": {
     "end_time": "2024-07-30T19:01:51.344705Z",
     "start_time": "2024-07-30T19:01:51.324575Z"
    }
   },
   "outputs": [],
   "source": [
    "X_train_transformed = hstack([X_train_complaints, X_train_service, X_train_age])\n",
    "X_valid_transformed = hstack([X_valid_complaints, X_valid_service, X_valid_age])"
   ]
  },
  {
   "cell_type": "code",
   "execution_count": 11,
   "id": "ad115bfb59a185e0",
   "metadata": {
    "ExecuteTime": {
     "end_time": "2024-07-30T19:01:51.348543Z",
     "start_time": "2024-07-30T19:01:51.345809Z"
    }
   },
   "outputs": [
    {
     "name": "stdout",
     "output_type": "stream",
     "text": [
      "X_train_transformed shape: (49580, 12248)\n",
      "X_valid_transformed shape: (12396, 12248)\n"
     ]
    }
   ],
   "source": [
    "print(f\"X_train_transformed shape: {X_train_transformed.shape}\")\n",
    "print(f\"X_valid_transformed shape: {X_valid_transformed.shape}\")\n",
    "\n",
    "del X_train, X_valid, X_train_complaints, X_valid_complaints, X_train_service, X_valid_service, X_train_age, X_valid_age"
   ]
  },
  {
   "cell_type": "markdown",
   "id": "95022aa482bb542",
   "metadata": {},
   "source": [
    "## Обучение модели"
   ]
  },
  {
   "cell_type": "code",
   "execution_count": 12,
   "id": "de7b345899bceec",
   "metadata": {
    "ExecuteTime": {
     "end_time": "2024-07-30T19:05:02.159620Z",
     "start_time": "2024-07-30T19:01:51.349755Z"
    }
   },
   "outputs": [
    {
     "data": {
      "text/html": [
       "<style>#sk-container-id-1 {\n",
       "  /* Definition of color scheme common for light and dark mode */\n",
       "  --sklearn-color-text: black;\n",
       "  --sklearn-color-line: gray;\n",
       "  /* Definition of color scheme for unfitted estimators */\n",
       "  --sklearn-color-unfitted-level-0: #fff5e6;\n",
       "  --sklearn-color-unfitted-level-1: #f6e4d2;\n",
       "  --sklearn-color-unfitted-level-2: #ffe0b3;\n",
       "  --sklearn-color-unfitted-level-3: chocolate;\n",
       "  /* Definition of color scheme for fitted estimators */\n",
       "  --sklearn-color-fitted-level-0: #f0f8ff;\n",
       "  --sklearn-color-fitted-level-1: #d4ebff;\n",
       "  --sklearn-color-fitted-level-2: #b3dbfd;\n",
       "  --sklearn-color-fitted-level-3: cornflowerblue;\n",
       "\n",
       "  /* Specific color for light theme */\n",
       "  --sklearn-color-text-on-default-background: var(--sg-text-color, var(--theme-code-foreground, var(--jp-content-font-color1, black)));\n",
       "  --sklearn-color-background: var(--sg-background-color, var(--theme-background, var(--jp-layout-color0, white)));\n",
       "  --sklearn-color-border-box: var(--sg-text-color, var(--theme-code-foreground, var(--jp-content-font-color1, black)));\n",
       "  --sklearn-color-icon: #696969;\n",
       "\n",
       "  @media (prefers-color-scheme: dark) {\n",
       "    /* Redefinition of color scheme for dark theme */\n",
       "    --sklearn-color-text-on-default-background: var(--sg-text-color, var(--theme-code-foreground, var(--jp-content-font-color1, white)));\n",
       "    --sklearn-color-background: var(--sg-background-color, var(--theme-background, var(--jp-layout-color0, #111)));\n",
       "    --sklearn-color-border-box: var(--sg-text-color, var(--theme-code-foreground, var(--jp-content-font-color1, white)));\n",
       "    --sklearn-color-icon: #878787;\n",
       "  }\n",
       "}\n",
       "\n",
       "#sk-container-id-1 {\n",
       "  color: var(--sklearn-color-text);\n",
       "}\n",
       "\n",
       "#sk-container-id-1 pre {\n",
       "  padding: 0;\n",
       "}\n",
       "\n",
       "#sk-container-id-1 input.sk-hidden--visually {\n",
       "  border: 0;\n",
       "  clip: rect(1px 1px 1px 1px);\n",
       "  clip: rect(1px, 1px, 1px, 1px);\n",
       "  height: 1px;\n",
       "  margin: -1px;\n",
       "  overflow: hidden;\n",
       "  padding: 0;\n",
       "  position: absolute;\n",
       "  width: 1px;\n",
       "}\n",
       "\n",
       "#sk-container-id-1 div.sk-dashed-wrapped {\n",
       "  border: 1px dashed var(--sklearn-color-line);\n",
       "  margin: 0 0.4em 0.5em 0.4em;\n",
       "  box-sizing: border-box;\n",
       "  padding-bottom: 0.4em;\n",
       "  background-color: var(--sklearn-color-background);\n",
       "}\n",
       "\n",
       "#sk-container-id-1 div.sk-container {\n",
       "  /* jupyter's `normalize.less` sets `[hidden] { display: none; }`\n",
       "     but bootstrap.min.css set `[hidden] { display: none !important; }`\n",
       "     so we also need the `!important` here to be able to override the\n",
       "     default hidden behavior on the sphinx rendered scikit-learn.org.\n",
       "     See: https://github.com/scikit-learn/scikit-learn/issues/21755 */\n",
       "  display: inline-block !important;\n",
       "  position: relative;\n",
       "}\n",
       "\n",
       "#sk-container-id-1 div.sk-text-repr-fallback {\n",
       "  display: none;\n",
       "}\n",
       "\n",
       "div.sk-parallel-item,\n",
       "div.sk-serial,\n",
       "div.sk-item {\n",
       "  /* draw centered vertical line to link estimators */\n",
       "  background-image: linear-gradient(var(--sklearn-color-text-on-default-background), var(--sklearn-color-text-on-default-background));\n",
       "  background-size: 2px 100%;\n",
       "  background-repeat: no-repeat;\n",
       "  background-position: center center;\n",
       "}\n",
       "\n",
       "/* Parallel-specific style estimator block */\n",
       "\n",
       "#sk-container-id-1 div.sk-parallel-item::after {\n",
       "  content: \"\";\n",
       "  width: 100%;\n",
       "  border-bottom: 2px solid var(--sklearn-color-text-on-default-background);\n",
       "  flex-grow: 1;\n",
       "}\n",
       "\n",
       "#sk-container-id-1 div.sk-parallel {\n",
       "  display: flex;\n",
       "  align-items: stretch;\n",
       "  justify-content: center;\n",
       "  background-color: var(--sklearn-color-background);\n",
       "  position: relative;\n",
       "}\n",
       "\n",
       "#sk-container-id-1 div.sk-parallel-item {\n",
       "  display: flex;\n",
       "  flex-direction: column;\n",
       "}\n",
       "\n",
       "#sk-container-id-1 div.sk-parallel-item:first-child::after {\n",
       "  align-self: flex-end;\n",
       "  width: 50%;\n",
       "}\n",
       "\n",
       "#sk-container-id-1 div.sk-parallel-item:last-child::after {\n",
       "  align-self: flex-start;\n",
       "  width: 50%;\n",
       "}\n",
       "\n",
       "#sk-container-id-1 div.sk-parallel-item:only-child::after {\n",
       "  width: 0;\n",
       "}\n",
       "\n",
       "/* Serial-specific style estimator block */\n",
       "\n",
       "#sk-container-id-1 div.sk-serial {\n",
       "  display: flex;\n",
       "  flex-direction: column;\n",
       "  align-items: center;\n",
       "  background-color: var(--sklearn-color-background);\n",
       "  padding-right: 1em;\n",
       "  padding-left: 1em;\n",
       "}\n",
       "\n",
       "\n",
       "/* Toggleable style: style used for estimator/Pipeline/ColumnTransformer box that is\n",
       "clickable and can be expanded/collapsed.\n",
       "- Pipeline and ColumnTransformer use this feature and define the default style\n",
       "- Estimators will overwrite some part of the style using the `sk-estimator` class\n",
       "*/\n",
       "\n",
       "/* Pipeline and ColumnTransformer style (default) */\n",
       "\n",
       "#sk-container-id-1 div.sk-toggleable {\n",
       "  /* Default theme specific background. It is overwritten whether we have a\n",
       "  specific estimator or a Pipeline/ColumnTransformer */\n",
       "  background-color: var(--sklearn-color-background);\n",
       "}\n",
       "\n",
       "/* Toggleable label */\n",
       "#sk-container-id-1 label.sk-toggleable__label {\n",
       "  cursor: pointer;\n",
       "  display: block;\n",
       "  width: 100%;\n",
       "  margin-bottom: 0;\n",
       "  padding: 0.5em;\n",
       "  box-sizing: border-box;\n",
       "  text-align: center;\n",
       "}\n",
       "\n",
       "#sk-container-id-1 label.sk-toggleable__label-arrow:before {\n",
       "  /* Arrow on the left of the label */\n",
       "  content: \"▸\";\n",
       "  float: left;\n",
       "  margin-right: 0.25em;\n",
       "  color: var(--sklearn-color-icon);\n",
       "}\n",
       "\n",
       "#sk-container-id-1 label.sk-toggleable__label-arrow:hover:before {\n",
       "  color: var(--sklearn-color-text);\n",
       "}\n",
       "\n",
       "/* Toggleable content - dropdown */\n",
       "\n",
       "#sk-container-id-1 div.sk-toggleable__content {\n",
       "  max-height: 0;\n",
       "  max-width: 0;\n",
       "  overflow: hidden;\n",
       "  text-align: left;\n",
       "  /* unfitted */\n",
       "  background-color: var(--sklearn-color-unfitted-level-0);\n",
       "}\n",
       "\n",
       "#sk-container-id-1 div.sk-toggleable__content.fitted {\n",
       "  /* fitted */\n",
       "  background-color: var(--sklearn-color-fitted-level-0);\n",
       "}\n",
       "\n",
       "#sk-container-id-1 div.sk-toggleable__content pre {\n",
       "  margin: 0.2em;\n",
       "  border-radius: 0.25em;\n",
       "  color: var(--sklearn-color-text);\n",
       "  /* unfitted */\n",
       "  background-color: var(--sklearn-color-unfitted-level-0);\n",
       "}\n",
       "\n",
       "#sk-container-id-1 div.sk-toggleable__content.fitted pre {\n",
       "  /* unfitted */\n",
       "  background-color: var(--sklearn-color-fitted-level-0);\n",
       "}\n",
       "\n",
       "#sk-container-id-1 input.sk-toggleable__control:checked~div.sk-toggleable__content {\n",
       "  /* Expand drop-down */\n",
       "  max-height: 200px;\n",
       "  max-width: 100%;\n",
       "  overflow: auto;\n",
       "}\n",
       "\n",
       "#sk-container-id-1 input.sk-toggleable__control:checked~label.sk-toggleable__label-arrow:before {\n",
       "  content: \"▾\";\n",
       "}\n",
       "\n",
       "/* Pipeline/ColumnTransformer-specific style */\n",
       "\n",
       "#sk-container-id-1 div.sk-label input.sk-toggleable__control:checked~label.sk-toggleable__label {\n",
       "  color: var(--sklearn-color-text);\n",
       "  background-color: var(--sklearn-color-unfitted-level-2);\n",
       "}\n",
       "\n",
       "#sk-container-id-1 div.sk-label.fitted input.sk-toggleable__control:checked~label.sk-toggleable__label {\n",
       "  background-color: var(--sklearn-color-fitted-level-2);\n",
       "}\n",
       "\n",
       "/* Estimator-specific style */\n",
       "\n",
       "/* Colorize estimator box */\n",
       "#sk-container-id-1 div.sk-estimator input.sk-toggleable__control:checked~label.sk-toggleable__label {\n",
       "  /* unfitted */\n",
       "  background-color: var(--sklearn-color-unfitted-level-2);\n",
       "}\n",
       "\n",
       "#sk-container-id-1 div.sk-estimator.fitted input.sk-toggleable__control:checked~label.sk-toggleable__label {\n",
       "  /* fitted */\n",
       "  background-color: var(--sklearn-color-fitted-level-2);\n",
       "}\n",
       "\n",
       "#sk-container-id-1 div.sk-label label.sk-toggleable__label,\n",
       "#sk-container-id-1 div.sk-label label {\n",
       "  /* The background is the default theme color */\n",
       "  color: var(--sklearn-color-text-on-default-background);\n",
       "}\n",
       "\n",
       "/* On hover, darken the color of the background */\n",
       "#sk-container-id-1 div.sk-label:hover label.sk-toggleable__label {\n",
       "  color: var(--sklearn-color-text);\n",
       "  background-color: var(--sklearn-color-unfitted-level-2);\n",
       "}\n",
       "\n",
       "/* Label box, darken color on hover, fitted */\n",
       "#sk-container-id-1 div.sk-label.fitted:hover label.sk-toggleable__label.fitted {\n",
       "  color: var(--sklearn-color-text);\n",
       "  background-color: var(--sklearn-color-fitted-level-2);\n",
       "}\n",
       "\n",
       "/* Estimator label */\n",
       "\n",
       "#sk-container-id-1 div.sk-label label {\n",
       "  font-family: monospace;\n",
       "  font-weight: bold;\n",
       "  display: inline-block;\n",
       "  line-height: 1.2em;\n",
       "}\n",
       "\n",
       "#sk-container-id-1 div.sk-label-container {\n",
       "  text-align: center;\n",
       "}\n",
       "\n",
       "/* Estimator-specific */\n",
       "#sk-container-id-1 div.sk-estimator {\n",
       "  font-family: monospace;\n",
       "  border: 1px dotted var(--sklearn-color-border-box);\n",
       "  border-radius: 0.25em;\n",
       "  box-sizing: border-box;\n",
       "  margin-bottom: 0.5em;\n",
       "  /* unfitted */\n",
       "  background-color: var(--sklearn-color-unfitted-level-0);\n",
       "}\n",
       "\n",
       "#sk-container-id-1 div.sk-estimator.fitted {\n",
       "  /* fitted */\n",
       "  background-color: var(--sklearn-color-fitted-level-0);\n",
       "}\n",
       "\n",
       "/* on hover */\n",
       "#sk-container-id-1 div.sk-estimator:hover {\n",
       "  /* unfitted */\n",
       "  background-color: var(--sklearn-color-unfitted-level-2);\n",
       "}\n",
       "\n",
       "#sk-container-id-1 div.sk-estimator.fitted:hover {\n",
       "  /* fitted */\n",
       "  background-color: var(--sklearn-color-fitted-level-2);\n",
       "}\n",
       "\n",
       "/* Specification for estimator info (e.g. \"i\" and \"?\") */\n",
       "\n",
       "/* Common style for \"i\" and \"?\" */\n",
       "\n",
       ".sk-estimator-doc-link,\n",
       "a:link.sk-estimator-doc-link,\n",
       "a:visited.sk-estimator-doc-link {\n",
       "  float: right;\n",
       "  font-size: smaller;\n",
       "  line-height: 1em;\n",
       "  font-family: monospace;\n",
       "  background-color: var(--sklearn-color-background);\n",
       "  border-radius: 1em;\n",
       "  height: 1em;\n",
       "  width: 1em;\n",
       "  text-decoration: none !important;\n",
       "  margin-left: 1ex;\n",
       "  /* unfitted */\n",
       "  border: var(--sklearn-color-unfitted-level-1) 1pt solid;\n",
       "  color: var(--sklearn-color-unfitted-level-1);\n",
       "}\n",
       "\n",
       ".sk-estimator-doc-link.fitted,\n",
       "a:link.sk-estimator-doc-link.fitted,\n",
       "a:visited.sk-estimator-doc-link.fitted {\n",
       "  /* fitted */\n",
       "  border: var(--sklearn-color-fitted-level-1) 1pt solid;\n",
       "  color: var(--sklearn-color-fitted-level-1);\n",
       "}\n",
       "\n",
       "/* On hover */\n",
       "div.sk-estimator:hover .sk-estimator-doc-link:hover,\n",
       ".sk-estimator-doc-link:hover,\n",
       "div.sk-label-container:hover .sk-estimator-doc-link:hover,\n",
       ".sk-estimator-doc-link:hover {\n",
       "  /* unfitted */\n",
       "  background-color: var(--sklearn-color-unfitted-level-3);\n",
       "  color: var(--sklearn-color-background);\n",
       "  text-decoration: none;\n",
       "}\n",
       "\n",
       "div.sk-estimator.fitted:hover .sk-estimator-doc-link.fitted:hover,\n",
       ".sk-estimator-doc-link.fitted:hover,\n",
       "div.sk-label-container:hover .sk-estimator-doc-link.fitted:hover,\n",
       ".sk-estimator-doc-link.fitted:hover {\n",
       "  /* fitted */\n",
       "  background-color: var(--sklearn-color-fitted-level-3);\n",
       "  color: var(--sklearn-color-background);\n",
       "  text-decoration: none;\n",
       "}\n",
       "\n",
       "/* Span, style for the box shown on hovering the info icon */\n",
       ".sk-estimator-doc-link span {\n",
       "  display: none;\n",
       "  z-index: 9999;\n",
       "  position: relative;\n",
       "  font-weight: normal;\n",
       "  right: .2ex;\n",
       "  padding: .5ex;\n",
       "  margin: .5ex;\n",
       "  width: min-content;\n",
       "  min-width: 20ex;\n",
       "  max-width: 50ex;\n",
       "  color: var(--sklearn-color-text);\n",
       "  box-shadow: 2pt 2pt 4pt #999;\n",
       "  /* unfitted */\n",
       "  background: var(--sklearn-color-unfitted-level-0);\n",
       "  border: .5pt solid var(--sklearn-color-unfitted-level-3);\n",
       "}\n",
       "\n",
       ".sk-estimator-doc-link.fitted span {\n",
       "  /* fitted */\n",
       "  background: var(--sklearn-color-fitted-level-0);\n",
       "  border: var(--sklearn-color-fitted-level-3);\n",
       "}\n",
       "\n",
       ".sk-estimator-doc-link:hover span {\n",
       "  display: block;\n",
       "}\n",
       "\n",
       "/* \"?\"-specific style due to the `<a>` HTML tag */\n",
       "\n",
       "#sk-container-id-1 a.estimator_doc_link {\n",
       "  float: right;\n",
       "  font-size: 1rem;\n",
       "  line-height: 1em;\n",
       "  font-family: monospace;\n",
       "  background-color: var(--sklearn-color-background);\n",
       "  border-radius: 1rem;\n",
       "  height: 1rem;\n",
       "  width: 1rem;\n",
       "  text-decoration: none;\n",
       "  /* unfitted */\n",
       "  color: var(--sklearn-color-unfitted-level-1);\n",
       "  border: var(--sklearn-color-unfitted-level-1) 1pt solid;\n",
       "}\n",
       "\n",
       "#sk-container-id-1 a.estimator_doc_link.fitted {\n",
       "  /* fitted */\n",
       "  border: var(--sklearn-color-fitted-level-1) 1pt solid;\n",
       "  color: var(--sklearn-color-fitted-level-1);\n",
       "}\n",
       "\n",
       "/* On hover */\n",
       "#sk-container-id-1 a.estimator_doc_link:hover {\n",
       "  /* unfitted */\n",
       "  background-color: var(--sklearn-color-unfitted-level-3);\n",
       "  color: var(--sklearn-color-background);\n",
       "  text-decoration: none;\n",
       "}\n",
       "\n",
       "#sk-container-id-1 a.estimator_doc_link.fitted:hover {\n",
       "  /* fitted */\n",
       "  background-color: var(--sklearn-color-fitted-level-3);\n",
       "}\n",
       "</style><div id=\"sk-container-id-1\" class=\"sk-top-container\"><div class=\"sk-text-repr-fallback\"><pre>LogisticRegression(random_state=42, tol=0.004)</pre><b>In a Jupyter environment, please rerun this cell to show the HTML representation or trust the notebook. <br />On GitHub, the HTML representation is unable to render, please try loading this page with nbviewer.org.</b></div><div class=\"sk-container\" hidden><div class=\"sk-item\"><div class=\"sk-estimator fitted sk-toggleable\"><input class=\"sk-toggleable__control sk-hidden--visually\" id=\"sk-estimator-id-1\" type=\"checkbox\" checked><label for=\"sk-estimator-id-1\" class=\"sk-toggleable__label fitted sk-toggleable__label-arrow fitted\">&nbsp;&nbsp;LogisticRegression<a class=\"sk-estimator-doc-link fitted\" rel=\"noreferrer\" target=\"_blank\" href=\"https://scikit-learn.org/1.5/modules/generated/sklearn.linear_model.LogisticRegression.html\">?<span>Documentation for LogisticRegression</span></a><span class=\"sk-estimator-doc-link fitted\">i<span>Fitted</span></span></label><div class=\"sk-toggleable__content fitted\"><pre>LogisticRegression(random_state=42, tol=0.004)</pre></div> </div></div></div></div>"
      ],
      "text/plain": [
       "LogisticRegression(random_state=42, tol=0.004)"
      ]
     },
     "execution_count": 12,
     "metadata": {},
     "output_type": "execute_result"
    }
   ],
   "source": [
    "clf = LogisticRegression(random_state=random_state, tol=0.004)\n",
    "clf.fit(X_train_transformed, y_train)"
   ]
  },
  {
   "cell_type": "markdown",
   "id": "9a0f01b0c717a6eb",
   "metadata": {},
   "source": [
    "## Метрика с учётом предсказания всех диагнозов"
   ]
  },
  {
   "cell_type": "code",
   "execution_count": 13,
   "id": "bda7950d58439ea7",
   "metadata": {
    "ExecuteTime": {
     "end_time": "2024-07-30T19:05:03.928272Z",
     "start_time": "2024-07-30T19:05:02.160786Z"
    }
   },
   "outputs": [
    {
     "name": "stdout",
     "output_type": "stream",
     "text": [
      "Train Accuracy: 34.65%\n"
     ]
    }
   ],
   "source": [
    "y_train_pred = clf.predict(X_train_transformed)\n",
    "print(f\"Train Accuracy: {round(accuracy_score(y_train, y_train_pred) * 100, 2)}%\")"
   ]
  },
  {
   "cell_type": "code",
   "execution_count": 14,
   "id": "a27cc4bf80ec7e51",
   "metadata": {
    "ExecuteTime": {
     "end_time": "2024-07-30T19:05:04.446575Z",
     "start_time": "2024-07-30T19:05:03.929419Z"
    }
   },
   "outputs": [
    {
     "name": "stdout",
     "output_type": "stream",
     "text": [
      "Valid Accuracy: 32.49%\n"
     ]
    }
   ],
   "source": [
    "y_valid_pred = clf.predict(X_valid_transformed)\n",
    "print(f\"Valid Accuracy: {round(accuracy_score(y_valid, y_valid_pred) * 100, 2)}%\")"
   ]
  },
  {
   "cell_type": "markdown",
   "id": "bdaec47a518d45fa",
   "metadata": {},
   "source": [
    "## Метрика с учётом предсказания 10 самых распространённых диагнозов"
   ]
  },
  {
   "cell_type": "code",
   "execution_count": 15,
   "id": "4e3e1cadd87f500d",
   "metadata": {
    "ExecuteTime": {
     "end_time": "2024-07-30T19:05:04.454696Z",
     "start_time": "2024-07-30T19:05:04.447606Z"
    }
   },
   "outputs": [
    {
     "name": "stdout",
     "output_type": "stream",
     "text": [
      "Valid Accuracy (Top 10): 71.54%\n"
     ]
    }
   ],
   "source": [
    "top_indices = y_valid.isin(top_diagnoses)\n",
    "y_test_top = y_valid[top_indices]\n",
    "y_pred_top = y_valid_pred[top_indices]\n",
    "\n",
    "print(f\"Valid Accuracy (Top {n_top}): {round(accuracy_score(y_test_top, y_pred_top) * 100, 2)}%\")"
   ]
  },
  {
   "cell_type": "markdown",
   "id": "4a4972d3941e8fac",
   "metadata": {},
   "source": [
    "Как видно, модель показывает хороший результат на тестовой выборке при предсказании распространённых диагнозов."
   ]
  },
  {
   "cell_type": "markdown",
   "id": "d4b369c957332ff0",
   "metadata": {},
   "source": [
    "## TODO\n",
    "Чтобы улучшить результат предсказания модели всех дианозов, включая не распространённые, можно попробовать обучать модель с учётом весов классов, чтобы учесть дисбаланс классов.\n",
    "\n",
    "Также можно попробовать другие модели, регрессию или KNN.\n",
    "\n",
    "Также можно обработать и использовать другие фичи из датасета - пол, источник рекламы, номер клиники и id пациента."
   ]
  },
  {
   "cell_type": "markdown",
   "id": "c51d04b01ccb1cde",
   "metadata": {},
   "source": [
    "# Predict on test data\n",
    "Подготовим тестовые данные и сделаем предсказание"
   ]
  },
  {
   "cell_type": "code",
   "execution_count": 16,
   "id": "92acb2d6a2626474",
   "metadata": {
    "ExecuteTime": {
     "end_time": "2024-07-30T19:05:04.563277Z",
     "start_time": "2024-07-30T19:05:04.455692Z"
    }
   },
   "outputs": [],
   "source": [
    "test_df = pd.read_csv(\"test_data.csv\", index_col=\"Id_Записи\", sep=\";\")"
   ]
  },
  {
   "cell_type": "code",
   "execution_count": 17,
   "id": "e27e231f1fb1857c",
   "metadata": {
    "ExecuteTime": {
     "end_time": "2024-07-30T19:05:04.904176Z",
     "start_time": "2024-07-30T19:05:04.564447Z"
    }
   },
   "outputs": [],
   "source": [
    "X_test_complaints = complaint_vectorizer.transform(test_df[\"Жалобы\"])\n",
    "X_test_service = service_vectorizer.transform(test_df[\"Услуга\"])\n",
    "X_test_age = scaler.transform(test_df[[\"Возраст\"]])"
   ]
  },
  {
   "cell_type": "code",
   "execution_count": 18,
   "id": "bec39d63922b2b6b",
   "metadata": {
    "ExecuteTime": {
     "end_time": "2024-07-30T19:05:04.912583Z",
     "start_time": "2024-07-30T19:05:04.905271Z"
    }
   },
   "outputs": [],
   "source": [
    "X_test_transformed = hstack([X_test_complaints, X_test_service, X_test_age])"
   ]
  },
  {
   "cell_type": "markdown",
   "id": "6b87fe5dc88531fc",
   "metadata": {},
   "source": [
    "## Предсказание и сохранение результата"
   ]
  },
  {
   "cell_type": "code",
   "execution_count": 19,
   "id": "98bf3f172145baa2",
   "metadata": {
    "ExecuteTime": {
     "end_time": "2024-07-30T19:05:06.044760Z",
     "start_time": "2024-07-30T19:05:04.913615Z"
    }
   },
   "outputs": [],
   "source": [
    "test_df[\"Код_диагноза\"] = clf.predict(X_test_transformed)"
   ]
  },
  {
   "cell_type": "code",
   "execution_count": 20,
   "id": "6e2f3d7c94bba64f",
   "metadata": {
    "ExecuteTime": {
     "end_time": "2024-07-30T19:05:06.081573Z",
     "start_time": "2024-07-30T19:05:06.045657Z"
    }
   },
   "outputs": [],
   "source": [
    "# добавим столбец с диагнозом, исходя из кода диагноза\n",
    "\n",
    "# code_to_diagnosis: словарь код_диагноза -> диагноз\n",
    "code_to_diagnosis = train_df.set_index(\"Код_диагноза\")[\"Диагноз\"].to_dict()\n",
    "\n",
    "test_df[\"Диагноз\"] = test_df[\"Код_диагноза\"].map(code_to_diagnosis)"
   ]
  },
  {
   "cell_type": "code",
   "execution_count": 21,
   "id": "c2897c701fb860a1",
   "metadata": {
    "ExecuteTime": {
     "end_time": "2024-07-30T19:05:06.089232Z",
     "start_time": "2024-07-30T19:05:06.082476Z"
    }
   },
   "outputs": [
    {
     "data": {
      "text/html": [
       "<div>\n",
       "<style scoped>\n",
       "    .dataframe tbody tr th:only-of-type {\n",
       "        vertical-align: middle;\n",
       "    }\n",
       "\n",
       "    .dataframe tbody tr th {\n",
       "        vertical-align: top;\n",
       "    }\n",
       "\n",
       "    .dataframe thead th {\n",
       "        text-align: right;\n",
       "    }\n",
       "</style>\n",
       "<table border=\"1\" class=\"dataframe\">\n",
       "  <thead>\n",
       "    <tr style=\"text-align: right;\">\n",
       "      <th></th>\n",
       "      <th>Id_Пациента</th>\n",
       "      <th>Возраст</th>\n",
       "      <th>Жалобы</th>\n",
       "      <th>Источник_рекламы</th>\n",
       "      <th>Клиника</th>\n",
       "      <th>Пол</th>\n",
       "      <th>Услуга</th>\n",
       "      <th>Код_диагноза</th>\n",
       "      <th>Диагноз</th>\n",
       "    </tr>\n",
       "    <tr>\n",
       "      <th>Id_Записи</th>\n",
       "      <th></th>\n",
       "      <th></th>\n",
       "      <th></th>\n",
       "      <th></th>\n",
       "      <th></th>\n",
       "      <th></th>\n",
       "      <th></th>\n",
       "      <th></th>\n",
       "      <th></th>\n",
       "    </tr>\n",
       "  </thead>\n",
       "  <tbody>\n",
       "    <tr>\n",
       "      <th>0</th>\n",
       "      <td>269166</td>\n",
       "      <td>61</td>\n",
       "      <td>на затруднение носового дыхания, скудное слизи...</td>\n",
       "      <td>Другое</td>\n",
       "      <td>3</td>\n",
       "      <td>1</td>\n",
       "      <td>Прием врача-оториноларинголога повторный, амбу...</td>\n",
       "      <td>J00</td>\n",
       "      <td>Острый назофарингит (насморк)</td>\n",
       "    </tr>\n",
       "    <tr>\n",
       "      <th>1</th>\n",
       "      <td>509296</td>\n",
       "      <td>27</td>\n",
       "      <td>прежние, динамики в состоянии не отмечает</td>\n",
       "      <td>ДМС</td>\n",
       "      <td>3</td>\n",
       "      <td>2</td>\n",
       "      <td>Прием врача-эндокринолога повторный, амбулаторный</td>\n",
       "      <td>Z01.8</td>\n",
       "      <td>Другое уточненное специальное обследование</td>\n",
       "    </tr>\n",
       "    <tr>\n",
       "      <th>2</th>\n",
       "      <td>418164</td>\n",
       "      <td>33</td>\n",
       "      <td>задержка мс. Тест на беременность положит (+)</td>\n",
       "      <td>Интернет</td>\n",
       "      <td>3</td>\n",
       "      <td>2</td>\n",
       "      <td>Прием врача-акушера-гинеколога  первичный, амб...</td>\n",
       "      <td>Z01.4</td>\n",
       "      <td>Гинекологическое обследование (общее) (рутинное)</td>\n",
       "    </tr>\n",
       "    <tr>\n",
       "      <th>3</th>\n",
       "      <td>413186</td>\n",
       "      <td>30</td>\n",
       "      <td>на бели, вздутие  живота</td>\n",
       "      <td>Другое</td>\n",
       "      <td>3</td>\n",
       "      <td>2</td>\n",
       "      <td>Прием врача-акушера-гинеколога повторный, амбу...</td>\n",
       "      <td>N76.0</td>\n",
       "      <td>Острый вагинит</td>\n",
       "    </tr>\n",
       "    <tr>\n",
       "      <th>4</th>\n",
       "      <td>257969</td>\n",
       "      <td>32</td>\n",
       "      <td>на периодическое затруднение носового дыхания,...</td>\n",
       "      <td>Другое</td>\n",
       "      <td>3</td>\n",
       "      <td>2</td>\n",
       "      <td>Прием врача-оториноларинголога повторный, амбу...</td>\n",
       "      <td>J01.0</td>\n",
       "      <td>Острый верхнечелюстной синусит</td>\n",
       "    </tr>\n",
       "  </tbody>\n",
       "</table>\n",
       "</div>"
      ],
      "text/plain": [
       "           Id_Пациента  Возраст  \\\n",
       "Id_Записи                         \n",
       "0               269166       61   \n",
       "1               509296       27   \n",
       "2               418164       33   \n",
       "3               413186       30   \n",
       "4               257969       32   \n",
       "\n",
       "                                                      Жалобы Источник_рекламы  \\\n",
       "Id_Записи                                                                       \n",
       "0          на затруднение носового дыхания, скудное слизи...           Другое   \n",
       "1                  прежние, динамики в состоянии не отмечает              ДМС   \n",
       "2              задержка мс. Тест на беременность положит (+)         Интернет   \n",
       "3                                   на бели, вздутие  живота           Другое   \n",
       "4          на периодическое затруднение носового дыхания,...           Другое   \n",
       "\n",
       "           Клиника  Пол                                             Услуга  \\\n",
       "Id_Записи                                                                    \n",
       "0                3    1  Прием врача-оториноларинголога повторный, амбу...   \n",
       "1                3    2  Прием врача-эндокринолога повторный, амбулаторный   \n",
       "2                3    2  Прием врача-акушера-гинеколога  первичный, амб...   \n",
       "3                3    2  Прием врача-акушера-гинеколога повторный, амбу...   \n",
       "4                3    2  Прием врача-оториноларинголога повторный, амбу...   \n",
       "\n",
       "          Код_диагноза                                           Диагноз  \n",
       "Id_Записи                                                                 \n",
       "0                  J00                     Острый назофарингит (насморк)  \n",
       "1                Z01.8        Другое уточненное специальное обследование  \n",
       "2                Z01.4  Гинекологическое обследование (общее) (рутинное)  \n",
       "3                N76.0                                    Острый вагинит  \n",
       "4                J01.0                    Острый верхнечелюстной синусит  "
      ]
     },
     "execution_count": 21,
     "metadata": {},
     "output_type": "execute_result"
    }
   ],
   "source": [
    "test_df.head(5)"
   ]
  },
  {
   "cell_type": "code",
   "execution_count": 22,
   "id": "f7e43e9733b463f0",
   "metadata": {
    "ExecuteTime": {
     "end_time": "2024-07-30T19:05:06.335767Z",
     "start_time": "2024-07-30T19:05:06.090469Z"
    }
   },
   "outputs": [],
   "source": [
    "test_df.to_csv(\"result.csv\", index=\"Id_Записи\", sep=\";\")"
   ]
  },
  {
   "cell_type": "code",
   "execution_count": null,
   "id": "82c740e982806603",
   "metadata": {
    "ExecuteTime": {
     "end_time": "2024-07-30T19:05:06.338894Z",
     "start_time": "2024-07-30T19:05:06.336894Z"
    }
   },
   "outputs": [],
   "source": []
  }
 ],
 "metadata": {
  "kernelspec": {
   "display_name": "Python 3",
   "language": "python",
   "name": "python3"
  },
  "language_info": {
   "codemirror_mode": {
    "name": "ipython",
    "version": 3
   },
   "file_extension": ".py",
   "mimetype": "text/x-python",
   "name": "python",
   "nbconvert_exporter": "python",
   "pygments_lexer": "ipython3",
   "version": "3.11.0"
  }
 },
 "nbformat": 4,
 "nbformat_minor": 5
}
