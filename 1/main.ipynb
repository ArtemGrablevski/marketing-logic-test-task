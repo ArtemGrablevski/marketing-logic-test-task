{
 "cells": [
  {
   "cell_type": "code",
   "execution_count": 1,
   "metadata": {},
   "outputs": [],
   "source": [
    "import numpy as np\n",
    "import pandas as pd"
   ]
  },
  {
   "cell_type": "code",
   "execution_count": 2,
   "metadata": {},
   "outputs": [],
   "source": [
    "input_file_path = \"source__300.csv\"\n",
    "output_file_path = \"matrix.csv\""
   ]
  },
  {
   "cell_type": "code",
   "execution_count": 3,
   "metadata": {},
   "outputs": [],
   "source": [
    "input_data = pd.read_csv(input_file_path, sep=\"|\", header=None, names=[\"id\", \"value\"])\n",
    "\n",
    "vector = np.zeros(300**2, dtype=np.int64)\n",
    "vector[input_data[\"id\"] - 1] = input_data[\"value\"]  # индексы в файле начинаются с 1, поэтому вычитаем 1\n",
    "matrix = vector.reshape((300, 300))\n",
    "\n",
    "df = pd.DataFrame(matrix)\n",
    "df.to_csv(output_file_path, index=False, header=False)"
   ]
  }
 ],
 "metadata": {
  "kernelspec": {
   "display_name": "venv",
   "language": "python",
   "name": "python3"
  },
  "language_info": {
   "codemirror_mode": {
    "name": "ipython",
    "version": 3
   },
   "file_extension": ".py",
   "mimetype": "text/x-python",
   "name": "python",
   "nbconvert_exporter": "python",
   "pygments_lexer": "ipython3",
   "version": "3.11.0"
  }
 },
 "nbformat": 4,
 "nbformat_minor": 2
}
